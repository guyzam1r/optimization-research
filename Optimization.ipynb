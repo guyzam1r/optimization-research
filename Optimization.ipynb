{
 "cells": [
  {
   "cell_type": "code",
   "execution_count": 1057,
   "id": "c85ed7ad",
   "metadata": {},
   "outputs": [],
   "source": [
    "import numpy as np\n",
    "from matplotlib import pyplot as plt\n",
    "import time\n",
    "import torch\n",
    "from torch import nn\n",
    "import os"
   ]
  },
  {
   "cell_type": "markdown",
   "id": "46639f95",
   "metadata": {},
   "source": [
    "## Objective Funtions"
   ]
  },
  {
   "cell_type": "code",
   "execution_count": 279,
   "id": "d239de32",
   "metadata": {},
   "outputs": [],
   "source": [
    "def sphere(x):\n",
    "    return torch.sum(x**2)"
   ]
  },
  {
   "cell_type": "code",
   "execution_count": 1025,
   "id": "86899a1e",
   "metadata": {},
   "outputs": [],
   "source": [
    "elli_coeffs = torch.ones(2)\n",
    "def ellipsoid(x):\n",
    "    n = x.size(0)\n",
    "    global elli_coeffs\n",
    "    elli_coeffs = torch.pow(10, torch.arange(n)/(n-1))\n",
    "    return torch.sum(elli_coeffs * x**2)"
   ]
  },
  {
   "cell_type": "code",
   "execution_count": 281,
   "id": "677755ab",
   "metadata": {},
   "outputs": [],
   "source": [
    "def cigar(x):\n",
    "    return x[0]**2 + 10**6 * torch.sum(x[1:]**2)"
   ]
  },
  {
   "cell_type": "code",
   "execution_count": 282,
   "id": "0a90e40e",
   "metadata": {},
   "outputs": [],
   "source": [
    "def tablet(x):\n",
    "    return 10**6 * x[0]**2 + torch.sum(x[1:]**2)"
   ]
  },
  {
   "cell_type": "code",
   "execution_count": 283,
   "id": "af89b5fd",
   "metadata": {},
   "outputs": [],
   "source": [
    "def parabolic_ridge(x):\n",
    "    return -x[0] + 100*torch.sum(x[1:]**2)"
   ]
  },
  {
   "cell_type": "code",
   "execution_count": 284,
   "id": "37d90726",
   "metadata": {},
   "outputs": [],
   "source": [
    "def sharp_ridge(x):\n",
    "    return -x[0] + 100*torch.norm(x[1:])"
   ]
  },
  {
   "cell_type": "code",
   "execution_count": 285,
   "id": "8fab8c1f",
   "metadata": {},
   "outputs": [],
   "source": [
    "def diffpow(x):\n",
    "    n = x.size(0)\n",
    "    out = 0\n",
    "    for i in range(n):\n",
    "        out += torch.abs(x[i])**(2 + 10*i/(n-1))\n",
    "    return out"
   ]
  },
  {
   "cell_type": "code",
   "execution_count": 286,
   "id": "7545738f",
   "metadata": {},
   "outputs": [],
   "source": [
    "def rosenbrock(x):\n",
    "    n = x.size(0)\n",
    "    out = 0\n",
    "    for i in range(n-1):\n",
    "        out += 100*(x[i+1] - x[i]**2)**2 + (x[i] - 1)**2\n",
    "    return out"
   ]
  },
  {
   "cell_type": "code",
   "execution_count": 287,
   "id": "d998a7fd",
   "metadata": {},
   "outputs": [],
   "source": [
    "#NOTE: Only takes x in R^2\n",
    "def booth(x):\n",
    "    return (x[0] + 2*x[1] - 7)**2 + (2*x[0] + x[1] - 5)**2"
   ]
  },
  {
   "cell_type": "code",
   "execution_count": 627,
   "id": "2f44a9c7",
   "metadata": {},
   "outputs": [],
   "source": [
    "def multi_layer_init(num_samples, in_dim, out_dim, w_dims, seed=12345):\n",
    "    #NOTE: w_dims[0] must equal in_dim and w_dims[-1] must equal out_dim\n",
    "    torch.manual_seed(seed)\n",
    "    \n",
    "    X = torch.rand(in_dim, num_samples, requires_grad=True)\n",
    "    Y = torch.rand(out_dim, num_samples, requires_grad=True)\n",
    "    \n",
    "    return X, Y"
   ]
  },
  {
   "cell_type": "code",
   "execution_count": 1183,
   "id": "8fab8b09",
   "metadata": {},
   "outputs": [],
   "source": [
    "#multi layer nn\n",
    "sigma = nn.LeakyReLU(0.1)\n",
    "sigma_inv = nn.LeakyReLU(10)\n",
    "\n",
    "def multi_layer(w):\n",
    "    h = X\n",
    "    start = 0\n",
    "    for i in range(len(w_dims)-1):\n",
    "        end = start + w_dims[i]*w_dims[i+1]\n",
    "        cur_w = w[start:end].reshape(w_dims[i+1],w_dims[i])\n",
    "        h = sigma(torch.matmul(1.0000*cur_w, h))\n",
    "        start = end\n",
    "    return 0.5 * torch.norm(Y - h)**2"
   ]
  },
  {
   "cell_type": "markdown",
   "id": "eea2ecf4",
   "metadata": {},
   "source": [
    "# Gradient-Based Optimization Methods\n",
    "\n",
    "Source: https://algorithmsbook.com/optimization/files/optimization.pdf"
   ]
  },
  {
   "cell_type": "code",
   "execution_count": 292,
   "id": "c10a903e",
   "metadata": {},
   "outputs": [],
   "source": [
    "#Gradient Descent\n",
    "def gd_step(x, obj, params):\n",
    "    lr = params[\"lr\"]\n",
    "    \n",
    "    loss = obj(x)\n",
    "    grad, = torch.autograd.grad(loss, inputs=x)\n",
    "    x_new = x - lr*grad\n",
    "    return x_new"
   ]
  },
  {
   "cell_type": "code",
   "execution_count": 293,
   "id": "0fef7d18",
   "metadata": {},
   "outputs": [],
   "source": [
    "#Momentum\n",
    "def momentum_step(x, obj, params):\n",
    "    lr = params[\"lr\"]\n",
    "    v = params[\"v\"]\n",
    "    decay = params[\"decay\"]\n",
    "    \n",
    "    loss = obj(x)\n",
    "    grad, = torch.autograd.grad(loss, inputs=x)\n",
    "    v_new = decay*v - lr*grad\n",
    "    x_new = x + v_new\n",
    "    return x_new, v_new"
   ]
  },
  {
   "cell_type": "code",
   "execution_count": 294,
   "id": "d687fa22",
   "metadata": {},
   "outputs": [],
   "source": [
    "#AdaGrad\n",
    "def adagrad_step(x, obj, params):\n",
    "    lr = params[\"lr\"]\n",
    "    s = params[\"s\"]\n",
    "    \n",
    "    loss = obj(x)\n",
    "    grad, = torch.autograd.grad(loss, inputs=x)\n",
    "    s_new = s + grad**2\n",
    "    x_new = x - (lr / (10e-8 + torch.sqrt(s_new)))*grad\n",
    "    return x_new, s_new"
   ]
  },
  {
   "cell_type": "code",
   "execution_count": 296,
   "id": "cf42da8d",
   "metadata": {},
   "outputs": [],
   "source": [
    "#Adam\n",
    "def adam_step(x, obj, params):\n",
    "    v = params[\"v\"]\n",
    "    v_decay = params[\"v_decay\"]\n",
    "    s = params[\"s\"]\n",
    "    s_decay = params[\"s_decay\"]\n",
    "    lr = params[\"lr\"]\n",
    "    k = params[\"k\"] #stores number of iterations\n",
    "    \n",
    "    k += 1\n",
    "    \n",
    "    loss = obj(x)\n",
    "    grad, = torch.autograd.grad(loss, inputs=x)\n",
    "    \n",
    "    v_new = v_decay*v + (1-v_decay)*grad\n",
    "    s_new = s_decay*s + (1-s_decay)*(grad**2)\n",
    "    \n",
    "    v_hat = v_new / (1 - v_decay**k)\n",
    "    s_hat = s_new / (1 - s_decay**k)\n",
    "    \n",
    "    x_new = x - lr * v_hat / (1e-8 + torch.sqrt(s_hat))\n",
    "    return x_new, v_new, s_new, k"
   ]
  },
  {
   "cell_type": "markdown",
   "id": "16e91b44",
   "metadata": {},
   "source": [
    "## CMA-ES"
   ]
  },
  {
   "cell_type": "markdown",
   "id": "52cdf736",
   "metadata": {},
   "source": [
    "Source: http://www.cmap.polytechnique.fr/~nikolaus.hansen/evco_11_1_1_0.pdf"
   ]
  },
  {
   "cell_type": "code",
   "execution_count": 865,
   "id": "4eecfa50",
   "metadata": {},
   "outputs": [],
   "source": [
    "def oldcmaes_step(x, obj, params):\n",
    "    l = params[\"l\"]\n",
    "    mu = params[\"mu\"]\n",
    "    C = params[\"C\"]\n",
    "    pc = params[\"pc\"]\n",
    "    cc = params[\"cc\"]\n",
    "    ccov = params[\"ccov\"]\n",
    "    s = params[\"s\"]\n",
    "    ps = params[\"ps\"]\n",
    "    cs = params[\"cs\"]\n",
    "    ds = params[\"ds\"]\n",
    "    chi = params[\"chi\"]\n",
    "    n = x.size(0)\n",
    "    \n",
    "    #compute B and D\n",
    "    B, D_squared, B_transpose = torch.linalg.svd(C)\n",
    "    D = torch.diag(torch.sqrt(D_squared))\n",
    "    BD = torch.matmul(B,D)\n",
    "    \n",
    "    #Sample offspring\n",
    "    m = torch.distributions.multivariate_normal.MultivariateNormal(torch.zeros(n), torch.eye(n))\n",
    "    z = m.sample((l,))\n",
    "    offspring = x + s * torch.t(torch.matmul(BD, torch.t(z)))\n",
    "        \n",
    "    #Compute objective on each offspring\n",
    "    evals = torch.zeros(l)\n",
    "    for i in range(l):\n",
    "        evals[i] = obj(offspring[i])\n",
    "        \n",
    "    #Get indices of top mu offspring\n",
    "    top_evals, top_inds = torch.topk(evals, mu, largest=False)\n",
    "    \n",
    "    #Updates\n",
    "    x_new = (1/mu) * torch.sum(offspring[top_inds], dim=0)\n",
    "    z_avg = (1/mu) * torch.sum(z[top_inds], dim=0)\n",
    "        \n",
    "    #Covariance update\n",
    "    pc_new = (1-cc)*pc + np.sqrt(cc*(2-cc)*mu) * torch.matmul(BD, z_avg)\n",
    "    C_new = (1-ccov)*C + ccov*torch.outer(pc_new, pc_new)\n",
    "    \n",
    "    #Step size update\n",
    "    ps_new = (1-cs)*ps + np.sqrt(cs*(2-cs)*mu) * torch.matmul(B, z_avg)\n",
    "    s_new = s * torch.exp((1/ds) * (torch.norm(ps_new)-chi) / chi)\n",
    "    \n",
    "    return x_new, C_new, pc_new, s_new, ps_new"
   ]
  },
  {
   "cell_type": "markdown",
   "id": "51a05a69",
   "metadata": {},
   "source": [
    "Source: http://www.cmap.polytechnique.fr/~nikolaus.hansen/evco_11_1_1_0.pdf"
   ]
  },
  {
   "cell_type": "code",
   "execution_count": 829,
   "id": "dfb4336d",
   "metadata": {},
   "outputs": [],
   "source": [
    "def newcmaes_step(x, obj, params):\n",
    "    l = params[\"l\"]\n",
    "    mu = params[\"mu\"]\n",
    "    C = params[\"C\"]\n",
    "    pc = params[\"pc\"]\n",
    "    cc = params[\"cc\"]\n",
    "    ccov = params[\"ccov\"]\n",
    "    acov = params[\"acov\"]\n",
    "    s = params[\"s\"]\n",
    "    ps = params[\"ps\"]\n",
    "    cs = params[\"cs\"]\n",
    "    ds = params[\"ds\"]\n",
    "    chi = params[\"chi\"]\n",
    "    n = x.size(0)\n",
    "    \n",
    "    #compute B and D\n",
    "    B, D_squared, B_transpose = torch.linalg.svd(C)\n",
    "    D = torch.diag(torch.sqrt(D_squared))\n",
    "    BD = torch.matmul(B,D)\n",
    "    \n",
    "    #Sample offspring\n",
    "    m = torch.distributions.multivariate_normal.MultivariateNormal(torch.zeros(n), torch.eye(n))\n",
    "    z = m.sample((l,))\n",
    "    offspring = x + s * torch.t(torch.matmul(BD, torch.t(z)))\n",
    "        \n",
    "    #Compute objective on each offspring\n",
    "    evals = torch.zeros(l)\n",
    "    for i in range(l):\n",
    "        evals[i] = obj(offspring[i])\n",
    "        \n",
    "    #Get indices of top mu offspring\n",
    "    top_evals, top_inds = torch.topk(evals, mu, largest=False)\n",
    "    \n",
    "    #Updates\n",
    "    x_new = (1/mu) * torch.sum(offspring[top_inds], dim=0)\n",
    "    z_avg = (1/mu) * torch.sum(z[top_inds], dim=0)\n",
    "    \n",
    "    #Covariance update\n",
    "    pc_new = (1-cc)*pc + np.sqrt(cc*(2-cc)*mu) * torch.matmul(BD, z_avg)\n",
    "    \n",
    "    outer_prod_sum = torch.zeros(n,n)\n",
    "    for i in range(mu):\n",
    "        outer_prod_sum += (1/mu) * torch.outer(z[top_inds[i]], z[top_inds[i]])\n",
    "    bigZ = torch.matmul(BD, torch.matmul(outer_prod_sum, torch.t(BD)))\n",
    "    \n",
    "    C_new = ((1-ccov)*C + \n",
    "             ccov * (acov*torch.matmul(pc_new, torch.t(pc_new)) +\n",
    "                     (1-acov)*bigZ))\n",
    "    \n",
    "    #Step size update\n",
    "    ps_new = (1-cs)*ps + np.sqrt(cs*(2-cs)*mu) * torch.matmul(B, z_avg)\n",
    "    s_new = s * torch.exp((1/ds) * (torch.norm(ps_new)-chi) / chi)\n",
    "    \n",
    "    return x_new, C_new, pc_new, s_new, ps_new"
   ]
  },
  {
   "cell_type": "markdown",
   "id": "13462d17",
   "metadata": {},
   "source": [
    "Source: https://arxiv.org/pdf/1604.00772.pdf (see pg. 29)"
   ]
  },
  {
   "cell_type": "code",
   "execution_count": 912,
   "id": "ac98b70f",
   "metadata": {},
   "outputs": [],
   "source": [
    "def cmaes_step(x, obj, params):\n",
    "    #Set parameters\n",
    "    l = params[\"l\"]\n",
    "    mu = params[\"mu\"]\n",
    "    mu_eff = params[\"mu_eff\"]\n",
    "    C = params[\"C\"]\n",
    "    pc = params[\"pc\"]\n",
    "    cc = params[\"cc\"]\n",
    "    cm = params[\"cm\"]\n",
    "    c1 = params[\"c1\"]\n",
    "    cmu = params[\"cmu\"]\n",
    "    s = params[\"s\"]\n",
    "    ps = params[\"ps\"]\n",
    "    cs = params[\"cs\"]\n",
    "    ds = params[\"ds\"]\n",
    "    chi = params[\"chi\"]\n",
    "    w = params[\"w\"]\n",
    "    sumw = params[\"sumw\"]\n",
    "    epoch = params[\"epoch\"]\n",
    "    n = x.size(0)\n",
    "    \n",
    "    #Calculate B,D\n",
    "    B, D_squared_diag, B_transpose = torch.linalg.svd(C)\n",
    "    D_diag = torch.sqrt(D_squared_diag)\n",
    "    D = torch.diag(D_diag)\n",
    "    Dinv = torch.diag(1/D_diag)\n",
    "    BD = torch.matmul(B,D)\n",
    "    sqrtCinv = torch.matmul(B, torch.matmul(Dinv, B_transpose))\n",
    "    \n",
    "    #Sample offspring\n",
    "    m = torch.distributions.multivariate_normal.MultivariateNormal(torch.zeros(n), torch.eye(n))\n",
    "    z = m.sample((l,))\n",
    "    y = torch.t(torch.matmul(BD, torch.t(z)))\n",
    "    offspring = x + s*y\n",
    "    \n",
    "    #Compute objective on each offspring\n",
    "    evals = torch.zeros(l)\n",
    "    for i in range(l):\n",
    "        evals[i] = obj(offspring[i])\n",
    "    \n",
    "    #Get indices of top mu offspring\n",
    "    top_evals, top_inds = torch.topk(evals, l, largest=False)\n",
    "    \n",
    "    #Selection and recombination\n",
    "    y_avg = torch.zeros(n)\n",
    "    for i in range(mu):\n",
    "        y_avg += w[i] * y[top_inds[i]]\n",
    "    x_new = x + cm*s*y_avg\n",
    "    \n",
    "    #Step size update\n",
    "    ps_new = (1-cs)*ps + np.sqrt(cs*(2-cs)*mu_eff) * torch.matmul(sqrtCinv, y_avg)\n",
    "    s_new = s * torch.exp((cs/ds) * (torch.norm(ps)/chi - 1))\n",
    "\n",
    "    #Covariance update    \n",
    "    term1 = torch.norm(ps) / torch.sqrt(1 - (1-cs)**(2*(epoch+1)))\n",
    "    term2 = (1.4 + 2/(n+1))*chi\n",
    "    if term1 < term2:\n",
    "        hs = 1\n",
    "    else:\n",
    "        hs = 0\n",
    "    dhs = (1-hs) * cc * (2-cc)\n",
    "    \n",
    "    w_circle = torch.zeros(l)\n",
    "    w_circle[:mu] = w[:mu]\n",
    "    for i in range(mu, l):\n",
    "        w_circle[i] = w[i] * n / torch.norm(torch.matmul(sqrtCinv, y[top_inds[i]]))**2\n",
    "    \n",
    "    pc_new = (1-cc)*pc + hs*np.sqrt(cc*(2-cc)*mu_eff)*y_avg\n",
    "\n",
    "    outer_prod_sum = torch.zeros(n,n)\n",
    "    for i in range(l):\n",
    "        outer_prod_sum += w_circle[i] * torch.outer(y[top_inds[i]], y[top_inds[i]])\n",
    "    \n",
    "    C_new = ((1 + c1*dhs - c1 - cmu*sumw)*C +\n",
    "         c1*torch.outer(pc, pc) +\n",
    "         cmu*outer_prod_sum)\n",
    "    \n",
    "    return x_new, C_new, pc_new, s_new, ps_new"
   ]
  },
  {
   "cell_type": "markdown",
   "id": "a84a8b86",
   "metadata": {},
   "source": [
    "# Teleportation"
   ]
  },
  {
   "cell_type": "code",
   "execution_count": 300,
   "id": "40d2a497",
   "metadata": {},
   "outputs": [],
   "source": [
    "#Booth x to v\n",
    "def booth_x_to_v(x):\n",
    "    return torch.stack([x[0] + 2*x[1] - 7, 2*x[0] + x[1] - 5])\n",
    "\n",
    "def booth_v_to_x(v):\n",
    "    return torch.stack([-1/3*v[0] + 2/3*v[1] + 1, 2/3*v[0] - 1/3*v[1] + 3])"
   ]
  },
  {
   "cell_type": "code",
   "execution_count": 301,
   "id": "46145c42",
   "metadata": {},
   "outputs": [],
   "source": [
    "#Rosenbrock x to v\n",
    "def ros_x_to_v(x):\n",
    "    return torch.stack([10 * (x[0]**2 - x[1]), x[0] - 1])\n",
    "\n",
    "def ros_v_to_x(v):\n",
    "    return torch.stack([v[1] + 1, (v[1] + 1)**2 - v[0] / 10])"
   ]
  },
  {
   "cell_type": "code",
   "execution_count": 531,
   "id": "1bb22d65",
   "metadata": {},
   "outputs": [],
   "source": [
    "#Sphere x to v\n",
    "def sphere_x_to_v(x):\n",
    "    return x\n",
    "\n",
    "def sphere_v_to_x(v):\n",
    "    return v"
   ]
  },
  {
   "cell_type": "code",
   "execution_count": 550,
   "id": "156bccb2",
   "metadata": {},
   "outputs": [],
   "source": [
    "#Ellipsoid x to v\n",
    "def elli_x_to_v(x):\n",
    "    return torch.sqrt(elli_coeffs) * x\n",
    "\n",
    "def elli_v_to_x(v):\n",
    "    return (1/torch.sqrt(elli_coeffs)) * v"
   ]
  },
  {
   "cell_type": "code",
   "execution_count": 302,
   "id": "242e8a55",
   "metadata": {},
   "outputs": [],
   "source": [
    "def group_action_SO2(x, g, x_to_v, v_to_x):\n",
    "    \"\"\"SO(2) group action on a 2D vector.\n",
    "\n",
    "    Args:\n",
    "        x: The vector acted upon.\n",
    "        g: A 2x2 rotation matrix. Group element that acts on the vector.\n",
    "        x_to_v: A function that takes input x and outputs v where SO(2) acts \n",
    "          linearly on vector v\n",
    "        v_to_x: A function that takes input v and outputs x. Inverse function\n",
    "          x_to_v.\n",
    "\n",
    "    Returns:\n",
    "        Two numbers corresponding to g.[x,y], where . denotes the action map.\n",
    "    \"\"\"\n",
    "    v = x_to_v(x)\n",
    "    rotated_v = torch.einsum('ij,j->i', g, v)\n",
    "    return v_to_x(rotated_v)"
   ]
  },
  {
   "cell_type": "code",
   "execution_count": 1123,
   "id": "8daab1a4",
   "metadata": {},
   "outputs": [],
   "source": [
    "def teleport_SO2(x, x_to_v, v_to_x, loss_func, lr_theta):\n",
    "    \"\"\"Teleportation on a function with SO(2) symmetry.\n",
    "\n",
    "    Args:\n",
    "        x: The vector acted upon.\n",
    "        x_to_v: A function that takes input x and outputs v where SO(2) acts \n",
    "          linearly on vector v\n",
    "        v_to_x: A function that takes input v and outputs x. Inverse function\n",
    "          x_to_v.\n",
    "        loss_func: Loss function in the optimization problem.\n",
    "        lr_theta: A scalar. Learning rate used in optimizing the group element.\n",
    "\n",
    "    Returns:\n",
    "        Two numbers corresponding to g.x, where g is the optimal group element found.\n",
    "    \"\"\"\n",
    "    theta = torch.tensor(np.random.random() * np.pi, requires_grad=True)\n",
    "    for theta_step in range(10):\n",
    "        g = torch.vstack(( \\\n",
    "            torch.cat(( (torch.cos(theta)).view(1), (-torch.sin(theta)).view(1) )), \\\n",
    "            torch.cat(( (torch.sin(theta)).view(1), (torch.cos(theta)).view(1))) \\\n",
    "            ))\n",
    "        gx = group_action_SO2(x, g, x_to_v, v_to_x)\n",
    "\n",
    "        L = loss_func(gx)\n",
    "        dL_dgW, = torch.autograd.grad(L, inputs=[gx], create_graph=True)\n",
    "        dL_dt = torch.sum(torch.square(dL_dgW))\n",
    "        dLdt_dtheta = torch.autograd.grad(dL_dt, inputs=[theta])[0]\n",
    "        \n",
    "        theta = theta + lr_theta * dLdt_dtheta\n",
    "\n",
    "    x = torch.tensor(gx.detach().numpy(), requires_grad=True)\n",
    "    return x\n"
   ]
  },
  {
   "cell_type": "markdown",
   "id": "e13f77ce",
   "metadata": {},
   "source": [
    "## Optimizer Wrapper"
   ]
  },
  {
   "cell_type": "code",
   "execution_count": 1125,
   "id": "6f16f264",
   "metadata": {},
   "outputs": [],
   "source": [
    "def step(optimizer, x, obj, teleport):\n",
    "    if teleport:\n",
    "        if obj == booth:\n",
    "            x = teleport_SO2(x, booth_x_to_v, booth_v_to_x, obj, 0.001)\n",
    "        elif obj == rosenbrock:\n",
    "            x = teleport_SO2(x, ros_x_to_v, ros_v_to_x, obj, 0.1)\n",
    "        elif obj == sphere:\n",
    "            x = teleport_SO2(x, sphere_x_to_v, sphere_v_to_x, obj, 0.01)\n",
    "        elif obj == ellipsoid:\n",
    "            x = teleport_SO2(x, elli_x_to_v, elli_v_to_x, obj, 0.01)\n",
    "        else:\n",
    "            print(\"WARNING: CANNOT TELEPORT ON\", obj)\n",
    "    \n",
    "    if optimizer == \"gd\":\n",
    "        x_new = gd_step(x, obj, parameters[\"gd\"])\n",
    "        \n",
    "    elif optimizer == \"momentum\":\n",
    "        x_new, v_new = momentum_step(x, obj, parameters[\"momentum\"])\n",
    "        parameters[\"momentum\"][\"v\"] = v_new\n",
    "        \n",
    "    elif optimizer == \"adagrad\":\n",
    "        x_new, s_new = adagrad_step(x, obj, parameters[\"adagrad\"])\n",
    "        parameters[\"adagrad\"][\"s\"] = s_new\n",
    "        \n",
    "    elif optimizer == \"rmsprop\":\n",
    "        pass\n",
    "    \n",
    "    elif optimizer == \"adam\":\n",
    "        x_new, v_new, s_new, k = adam_step(x, obj, parameters[\"adam\"])\n",
    "        parameters[\"adam\"][\"v\"] = v_new\n",
    "        parameters[\"adam\"][\"s\"] = s_new\n",
    "        parameters[\"adam\"][\"k\"] = k\n",
    "    \n",
    "    elif optimizer == \"oldcmaes\":\n",
    "        x_new, C_new, pc_new, s_new, ps_new = oldcmaes_step(x, obj, parameters[\"oldcmaes\"])\n",
    "        parameters[\"oldcmaes\"][\"C\"] = C_new\n",
    "        parameters[\"oldcmaes\"][\"pc\"] = pc_new\n",
    "        parameters[\"oldcmaes\"][\"s\"] = s_new\n",
    "        parameters[\"oldcmaes\"][\"ps\"] = ps_new\n",
    "        \n",
    "    elif optimizer == \"newcmaes\":\n",
    "        x_new, C_new, pc_new, s_new, ps_new = newcmaes_step(x, obj, parameters[\"newcmaes\"])\n",
    "        parameters[\"newcmaes\"][\"C\"] = C_new\n",
    "        parameters[\"newcmaes\"][\"pc\"] = pc_new\n",
    "        parameters[\"newcmaes\"][\"s\"] = s_new\n",
    "        parameters[\"newcmaes\"][\"ps\"] = ps_new\n",
    "        \n",
    "    elif optimizer == \"cmaes\":\n",
    "        x_new, C_new, pc_new, s_new, ps_new = cmaes_step(x, obj, parameters[\"cmaes\"])\n",
    "        parameters[\"cmaes\"][\"C\"] = C_new\n",
    "        parameters[\"cmaes\"][\"pc\"] = pc_new\n",
    "        parameters[\"cmaes\"][\"s\"] = s_new\n",
    "        parameters[\"cmaes\"][\"ps\"] = ps_new\n",
    "        parameters[\"cmaes\"][\"epoch\"] = parameters[\"cmaes\"][\"epoch\"] + 1\n",
    "    \n",
    "    else:\n",
    "        print(\"Optimizer\", optimizer, \"not found.\")\n",
    "        \n",
    "    return x_new"
   ]
  },
  {
   "cell_type": "markdown",
   "id": "c36b64e4",
   "metadata": {},
   "source": [
    "# Parameters"
   ]
  },
  {
   "cell_type": "code",
   "execution_count": 936,
   "id": "6944ca08",
   "metadata": {},
   "outputs": [],
   "source": [
    "def set_param(params, opt, param, new_value):\n",
    "    params[opt][param] = new_value"
   ]
  },
  {
   "cell_type": "code",
   "execution_count": 926,
   "id": "b8344cc2",
   "metadata": {},
   "outputs": [],
   "source": [
    "def set_default_params(n):\n",
    "    gd_params = {\n",
    "        \"lr\": 0.002\n",
    "    }\n",
    "\n",
    "    momentum_params = {\n",
    "        \"lr\": 0.002,\n",
    "        \"v\": 0,\n",
    "        \"decay\": 0.5\n",
    "    }\n",
    "\n",
    "    adagrad_params = {\n",
    "        \"lr\": 1,\n",
    "        \"s\": 0\n",
    "    }\n",
    "\n",
    "    adam_params = {\n",
    "        \"lr\": 0.08,\n",
    "        \"v\": 0,\n",
    "        \"s\": 0,\n",
    "        \"v_decay\": 0.9,\n",
    "        \"s_decay\": 0.999,\n",
    "        \"k\": 0\n",
    "    }\n",
    "    \n",
    "    #OLD/NEW CMAES PARAMETERS\n",
    "    l = 200#int(4 + np.floor(3*np.log(n)))\n",
    "    mu = 10#int(np.floor(l/4))\n",
    "    chi = np.sqrt(n) * (1 - 1/(4*n) + 1/(21*n**2))\n",
    "    acov = 1/mu\n",
    "    \n",
    "    oldcmaes_params = {\n",
    "        \"l\": l,\n",
    "        \"mu\": mu,\n",
    "        \"C\": torch.eye(n),\n",
    "        \"pc\": torch.zeros(n),\n",
    "        \"cc\": 4 / (n+4),\n",
    "        \"ccov\": 2 / (n + np.sqrt(2))**2,\n",
    "        \"s\": 0.1,\n",
    "        \"ps\": torch.zeros(n),\n",
    "        \"cs\": 4/(n+4),\n",
    "        \"ds\": 1 + (n+4)/4,\n",
    "        \"chi\": chi\n",
    "    }\n",
    "    \n",
    "    newcmaes_params = {\n",
    "        \"l\": l,\n",
    "        \"mu\": mu,\n",
    "        \"C\": torch.eye(n),\n",
    "        \"pc\": torch.zeros(n),\n",
    "        \"cc\": 4 / (n+4),\n",
    "        \"ccov\": acov*2/(n+np.sqrt(2))**2 + (1-acov)*min(1, (2*mu-1)/((n+2)**2 + mu)),\n",
    "        \"acov\": acov,\n",
    "        \"s\": 0.01,\n",
    "        \"ps\": torch.zeros(n),\n",
    "        \"cs\": 4/(n+4),\n",
    "        \"ds\": 1 + (n+4)/4,\n",
    "        \"chi\": chi\n",
    "    }\n",
    "    \n",
    "    #CMAES PARAMETERS\n",
    "    l = int(4 + np.floor(3 * np.log(n)))\n",
    "    mu = int(np.floor(l/2))\n",
    "    \n",
    "    w_prime = np.log((l+1)/2) - torch.log(torch.arange(1,l+1))\n",
    "        \n",
    "    mu_eff = (torch.sum(w_prime[:mu])**2) / torch.sum(w_prime[:mu]**2)\n",
    "    mu_eff_neg = (torch.sum(w_prime[mu:])**2) / torch.sum(w_prime[mu:]**2)\n",
    "    \n",
    "    cm = 1\n",
    "    \n",
    "    cs = (mu_eff + 2) / (n + mu_eff + 5)\n",
    "    ds = 1 + 2 * max(0, np.sqrt((mu_eff-1)/(n+1))-1) + cs\n",
    "    \n",
    "    cc = (4 + mu_eff/n) / (n + 4 + 2*mu_eff/n)\n",
    "    c1 = 2 / ((n+1.3)**2 + mu_eff)\n",
    "    cmu = min(1-c1, 2*(1/4 + mu_eff + 1/mu_eff - 2)/((n+2)**2 + mu_eff))\n",
    "    \n",
    "    amu = 1 + c1/cmu\n",
    "    amu_eff = 1 + (2*mu_eff_neg) / (mu_eff + 2)\n",
    "    a_pd = (1 - c1 - cmu) / (n*cmu)\n",
    "    \n",
    "    sum_w_prime_pos = torch.sum(w_prime[:mu])\n",
    "    sum_w_prime_neg = -torch.sum(w_prime[mu:])\n",
    "    \n",
    "    w = torch.zeros(l)\n",
    "    w[:mu] = w_prime[:mu] / sum_w_prime_pos\n",
    "    w[mu:] = min(amu, amu_eff, a_pd) * w_prime[mu:] / sum_w_prime_neg\n",
    "    sumw = torch.sum(w)\n",
    "    \n",
    "    chi = np.sqrt(n) * (1 - 1/(4*n) + 1/(21*n**2))\n",
    "    \n",
    "    cmaes_params = {\n",
    "        \"l\": l,\n",
    "        \"mu\": mu,\n",
    "        \"mu_eff\": mu_eff,\n",
    "        \"C\": torch.eye(n),\n",
    "        \"pc\": torch.zeros(n),\n",
    "        \"cc\": cc,\n",
    "        \"cm\": cm,\n",
    "        \"c1\": c1,\n",
    "        \"cmu\": cmu,\n",
    "        \"s\": 0.1,\n",
    "        \"ps\": torch.zeros(n),\n",
    "        \"cs\": cs,\n",
    "        \"ds\": ds,\n",
    "        \"chi\": chi,\n",
    "        \"w\": w,\n",
    "        \"sumw\": sumw,\n",
    "        \"epoch\": 0\n",
    "    }\n",
    "\n",
    "    parameters = {\n",
    "        \"gd\": gd_params,\n",
    "        \"momentum\": momentum_params,\n",
    "        \"adagrad\": adagrad_params,\n",
    "        \"adam\": adam_params,\n",
    "        \"oldcmaes\": oldcmaes_params,\n",
    "        \"newcmaes\": newcmaes_params,\n",
    "        \"cmaes\": cmaes_params\n",
    "    }\n",
    "    \n",
    "    return parameters"
   ]
  },
  {
   "cell_type": "markdown",
   "id": "922a820b",
   "metadata": {},
   "source": [
    "## Training"
   ]
  },
  {
   "cell_type": "code",
   "execution_count": 940,
   "id": "736099bb",
   "metadata": {},
   "outputs": [],
   "source": [
    "def train(obj, opt, epochs, x, teleport_sched):\n",
    "    loss_vals = np.zeros(epochs+1)\n",
    "    times = np.zeros(epochs+1)\n",
    "    loss_vals[0] = obj(x)\n",
    "    \n",
    "    start = time.time()\n",
    "\n",
    "    for epoch in range(epochs):\n",
    "        if epoch in teleport_sched:\n",
    "            x = step(opt, x, obj, True)\n",
    "        else:\n",
    "            x = step(opt, x, obj, False)\n",
    "                            \n",
    "        loss_vals[epoch+1] = obj(x).item()\n",
    "        times[epoch+1] = time.time() - start\n",
    "        \n",
    "    return x, loss_vals, times"
   ]
  },
  {
   "cell_type": "code",
   "execution_count": 941,
   "id": "70190bf0",
   "metadata": {},
   "outputs": [],
   "source": [
    "def train_time(obj, opt, runtime, x, teleport_sched):\n",
    "    loss_vals = [obj(x).item()]\n",
    "    times = [0]\n",
    "    \n",
    "    start = time.time()\n",
    "\n",
    "    epoch = 0\n",
    "    while time.time()-start < runtime:\n",
    "        if epoch in teleport_sched:\n",
    "            x = step(opt, x, obj, True)\n",
    "        else:\n",
    "            x = step(opt, x, obj, False)\n",
    "            \n",
    "        loss_vals.append(obj(x).item())\n",
    "        times.append(time.time() - start)\n",
    "        \n",
    "        epoch += 1\n",
    "        \n",
    "    return x, loss_vals, times"
   ]
  },
  {
   "cell_type": "code",
   "execution_count": 1090,
   "id": "86c80713",
   "metadata": {},
   "outputs": [],
   "source": [
    "def loss_vs_epochs(obj, opts, epochs, x_init, tel_scheds, param_changes=[], figsz=(13,9)):\n",
    "    plt.figure(figsize=figsz)\n",
    "    labels = opts.copy()\n",
    "    global parameters\n",
    "    \n",
    "    for i in range(len(opts)):\n",
    "        opt = opts[i]\n",
    "        tel_sched = tel_scheds[i]\n",
    "        \n",
    "        parameters = set_default_params(x_init.size(0))\n",
    "        parameters = set_default_params(x_init.size(0))\n",
    "        for change in param_changes:\n",
    "            set_param(parameters, change[0], change[1], change[2])\n",
    "        \n",
    "        x, loss_vals, times = train(obj, opt, epochs, x_init, tel_sched)\n",
    "        plt.plot(np.arange(epochs+1), loss_vals)\n",
    "        \n",
    "        if len(tel_sched) > 0:\n",
    "            labels[i] += \" w/ tel\"\n",
    "            \n",
    "        print(\"Total time elapsed using\", labels[i], \"-\", times[-1])\n",
    "        print(\"Final x -\", x)\n",
    "        print(\"Final loss -\", obj(x).item())\n",
    "        print(\"------------------------------\")\n",
    "    \n",
    "    plt.legend(labels, fontsize=20)\n",
    "    plt.ylabel(\"Loss\")\n",
    "    plt.xlabel(\"Epochs\")\n",
    "    plt.show()"
   ]
  },
  {
   "cell_type": "code",
   "execution_count": 1088,
   "id": "b6c4ae15",
   "metadata": {},
   "outputs": [],
   "source": [
    "def loss_vs_seconds(obj, opts, runtime, x_init, tel_scheds, param_changes=[], figsz=(13,9)):\n",
    "    plt.figure(figsize=figsz)\n",
    "    labels = opts.copy()\n",
    "    global parameters\n",
    "    \n",
    "    for i in range(len(opts)):\n",
    "        opt = opts[i]\n",
    "        tel_sched = tel_scheds[i]\n",
    "        \n",
    "        parameters = set_default_params(x_init.size(0))\n",
    "        for change in param_changes:\n",
    "            set_param(parameters, change[0], change[1], change[2])\n",
    "        \n",
    "        x, loss_vals, times = train_time(obj, opt, runtime, x_init, tel_sched)\n",
    "        plt.plot(times, loss_vals)\n",
    "        \n",
    "        if len(tel_sched) > 0:\n",
    "            labels[i] += \" w/ tel\"\n",
    "            \n",
    "        print(\"Total epochs elapsed using\", labels[i], \"-\", len(times))\n",
    "        print(\"Final x -\", x)\n",
    "        print(\"Final loss -\", obj(x).item())\n",
    "        print(\"------------------------------\")\n",
    "    \n",
    "    plt.legend(labels, fontsize=20)\n",
    "    plt.ylabel(\"Loss\")\n",
    "    plt.xlabel(\"Seconds\")\n",
    "    plt.show()"
   ]
  },
  {
   "cell_type": "markdown",
   "id": "a3041ca8",
   "metadata": {},
   "source": [
    "# Figures"
   ]
  },
  {
   "cell_type": "markdown",
   "id": "e55422c7",
   "metadata": {},
   "source": [
    "### Ellipse"
   ]
  },
  {
   "cell_type": "code",
   "execution_count": 1129,
   "id": "fffe7c1b",
   "metadata": {
    "scrolled": true
   },
   "outputs": [
    {
     "name": "stdout",
     "output_type": "stream",
     "text": [
      "Total time elapsed using cmaes - 0.057240962982177734\n",
      "Final x - tensor([1.7314e-05, 3.8840e-07], grad_fn=<AddBackward0>)\n",
      "Final loss - 3.012772253896401e-10\n",
      "------------------------------\n",
      "Total time elapsed using gd - 0.00529170036315918\n",
      "Final x - tensor([0.0052, 0.0000], grad_fn=<SubBackward0>)\n",
      "Final loss - 2.656140350154601e-05\n",
      "------------------------------\n",
      "Total time elapsed using gd w/ tel - 0.010455846786499023\n",
      "Final x - tensor([-3.3050e-06,  0.0000e+00], grad_fn=<SubBackward0>)\n",
      "Final loss - 1.092278351100262e-11\n",
      "------------------------------\n"
     ]
    },
    {
     "data": {
      "image/png": "[encoded data removed]",
      "text/plain": [
       "<Figure size 936x648 with 1 Axes>"
      ]
     },
     "metadata": {
      "needs_background": "light"
     },
     "output_type": "display_data"
    }
   ],
   "source": [
    "ts = [[],[],[1]]\n",
    "changes = [[\"gd\",\"lr\",0.05], [\"cmaes\",\"s\",0.5]]\n",
    "x_init = torch.tensor([1.0,0.0],requires_grad=True)\n",
    "epochs = 50\n",
    "loss_vs_epochs(ellipsoid, [\"cmaes\", \"gd\", \"gd\"], epochs, x_init, ts, changes)"
   ]
  },
  {
   "cell_type": "code",
   "execution_count": 1135,
   "id": "2bc2ebac",
   "metadata": {
    "scrolled": true
   },
   "outputs": [
    {
     "name": "stdout",
     "output_type": "stream",
     "text": [
      "Total epochs elapsed using cmaes - 46\n",
      "Final x - tensor([-1.4878e-05,  1.6614e-06], grad_fn=<AddBackward0>)\n",
      "Final loss - 2.489471684352651e-10\n",
      "------------------------------\n",
      "Total epochs elapsed using gd - 457\n",
      "Final x - tensor([1.3633e-21, 0.0000e+00], grad_fn=<SubBackward0>)\n",
      "Final loss - 1.8581217636947074e-42\n",
      "------------------------------\n",
      "Total epochs elapsed using gd w/ tel - 455\n",
      "Final x - tensor([-2.9381e-25,  0.0000e+00], grad_fn=<SubBackward0>)\n",
      "Final loss - 0.0\n",
      "------------------------------\n"
     ]
    },
    {
     "data": {
      "image/png": "[encoded data removed]",
      "text/plain": [
       "<Figure size 936x648 with 1 Axes>"
      ]
     },
     "metadata": {
      "needs_background": "light"
     },
     "output_type": "display_data"
    }
   ],
   "source": [
    "ts = [[],[],[1]]\n",
    "changes = [[\"gd\",\"lr\",0.05], [\"cmaes\",\"s\",0.5]]\n",
    "x_init = torch.tensor([1.0,0.0],requires_grad=True)\n",
    "runtime = 0.05\n",
    "loss_vs_seconds(ellipsoid, [\"cmaes\", \"gd\", \"gd\"], runtime, x_init, ts, changes)"
   ]
  },
  {
   "cell_type": "markdown",
   "id": "7a571623",
   "metadata": {},
   "source": [
    "### Booth"
   ]
  },
  {
   "cell_type": "code",
   "execution_count": 1136,
   "id": "24b2300c",
   "metadata": {
    "scrolled": true
   },
   "outputs": [
    {
     "name": "stdout",
     "output_type": "stream",
     "text": [
      "Total time elapsed using cmaes - 0.02834796905517578\n",
      "Final x - tensor([1.0752, 3.0548], grad_fn=<AddBackward0>)\n",
      "Final loss - 0.07628579437732697\n",
      "------------------------------\n",
      "Total time elapsed using gd - 0.003937959671020508\n",
      "Final x - tensor([1.1835, 2.8165], grad_fn=<SubBackward0>)\n",
      "Final loss - 0.06737586855888367\n",
      "------------------------------\n",
      "Total time elapsed using gd w/ tel - 0.009571075439453125\n",
      "Final x - tensor([1.0993, 2.9007], grad_fn=<SubBackward0>)\n",
      "Final loss - 0.01973884552717209\n",
      "------------------------------\n"
     ]
    },
    {
     "data": {
      "image/png": "[encoded data removed]",
      "text/plain": [
       "<Figure size 936x648 with 1 Axes>"
      ]
     },
     "metadata": {
      "needs_background": "light"
     },
     "output_type": "display_data"
    }
   ],
   "source": [
    "ts = [[],[],[2]]\n",
    "changes = [[\"gd\",\"lr\",0.08], [\"cmaes\",\"s\",0.5]]\n",
    "x_init = torch.tensor([5.0,-5.0],requires_grad=True)\n",
    "epochs = 20\n",
    "loss_vs_epochs(booth, [\"cmaes\", \"gd\", \"gd\"], epochs, x_init, ts, changes)"
   ]
  },
  {
   "cell_type": "code",
   "execution_count": 1138,
   "id": "7da27fa6",
   "metadata": {
    "scrolled": true
   },
   "outputs": [
    {
     "name": "stdout",
     "output_type": "stream",
     "text": [
      "Total epochs elapsed using cmaes - 80\n",
      "Final x - tensor([1.0000, 3.0000], grad_fn=<AddBackward0>)\n",
      "Final loss - 9.094947017729282e-13\n",
      "------------------------------\n",
      "Total epochs elapsed using gd - 568\n",
      "Final x - tensor([1.0000, 3.0000], grad_fn=<SubBackward0>)\n",
      "Final loss - 4.547473508864641e-13\n",
      "------------------------------\n",
      "Total epochs elapsed using gd w/ tel - 527\n",
      "Final x - tensor([1.0000, 3.0000], grad_fn=<SubBackward0>)\n",
      "Final loss - 4.547473508864641e-13\n",
      "------------------------------\n"
     ]
    },
    {
     "data": {
      "image/png": "[encoded data removed]",
      "text/plain": [
       "<Figure size 936x648 with 1 Axes>"
      ]
     },
     "metadata": {
      "needs_background": "light"
     },
     "output_type": "display_data"
    }
   ],
   "source": [
    "ts = [[],[],[2]]\n",
    "changes = [[\"gd\",\"lr\",0.05], [\"cmaes\",\"s\",0.5]]\n",
    "x_init = torch.tensor([5.0,-5.0],requires_grad=True)\n",
    "runtime = 0.1\n",
    "loss_vs_seconds(booth, [\"cmaes\", \"gd\", \"gd\"], runtime, x_init, ts, changes)"
   ]
  },
  {
   "cell_type": "markdown",
   "id": "a7df356a",
   "metadata": {},
   "source": [
    "### Rosenbrock"
   ]
  },
  {
   "cell_type": "code",
   "execution_count": 1149,
   "id": "7594c6dc",
   "metadata": {
    "scrolled": true
   },
   "outputs": [
    {
     "name": "stdout",
     "output_type": "stream",
     "text": [
      "Total time elapsed using cmaes - 0.12461996078491211\n",
      "Final x - tensor([1.0000, 1.0000], grad_fn=<AddBackward0>)\n",
      "Final loss - 3.588240815588506e-13\n",
      "------------------------------\n",
      "Total time elapsed using gd - 0.01712203025817871\n",
      "Final x - tensor([0.1275, 0.0142], grad_fn=<SubBackward0>)\n",
      "Final loss - 0.7617259621620178\n",
      "------------------------------\n",
      "Total time elapsed using gd w/ tel - 0.016949892044067383\n",
      "Final x - tensor([0.1275, 0.0142], grad_fn=<SubBackward0>)\n",
      "Final loss - 0.7617259621620178\n",
      "------------------------------\n"
     ]
    },
    {
     "data": {
      "image/png": "[encoded data removed]",
      "text/plain": [
       "<Figure size 936x648 with 1 Axes>"
      ]
     },
     "metadata": {
      "needs_background": "light"
     },
     "output_type": "display_data"
    }
   ],
   "source": [
    "ts = [[],[],[range(5,1000,20)]]\n",
    "changes = [[\"gd\",\"lr\",0.001], [\"cmaes\",\"s\",0.5]]\n",
    "x_init = torch.tensor([-1.0,-1.0],requires_grad=True)\n",
    "epochs = 100\n",
    "loss_vs_epochs(rosenbrock, [\"cmaes\", \"gd\", \"gd\"], epochs, x_init, ts, changes)"
   ]
  },
  {
   "cell_type": "code",
   "execution_count": 1160,
   "id": "133425b9",
   "metadata": {
    "scrolled": true
   },
   "outputs": [
    {
     "name": "stdout",
     "output_type": "stream",
     "text": [
      "Total epochs elapsed using cmaes - 85\n",
      "Final x - tensor([1.0011, 1.0022], grad_fn=<AddBackward0>)\n",
      "Final loss - 1.233923171639617e-06\n",
      "------------------------------\n",
      "Total epochs elapsed using gd w/ tel - 584\n",
      "Final x - tensor([0.5327, 0.2814], grad_fn=<SubBackward0>)\n",
      "Final loss - 0.21890844404697418\n",
      "------------------------------\n",
      "Total epochs elapsed using momentum - 574\n",
      "Final x - tensor([0.9797, 0.9596], grad_fn=<AddBackward0>)\n",
      "Final loss - 0.0004145916027482599\n",
      "------------------------------\n",
      "Total epochs elapsed using adagrad - 485\n",
      "Final x - tensor([1., 1.], grad_fn=<SubBackward0>)\n",
      "Final loss - 0.0\n",
      "------------------------------\n"
     ]
    },
    {
     "data": {
      "image/png": "[encoded data removed]",
      "text/plain": [
       "<Figure size 936x648 with 1 Axes>"
      ]
     },
     "metadata": {
      "needs_background": "light"
     },
     "output_type": "display_data"
    }
   ],
   "source": [
    "ts = [[],[range(5,1000,20)],[],[]]\n",
    "changes = [[\"gd\",\"lr\",0.001], [\"cmaes\",\"s\",0.5], [\"adagrad\",\"lr\",2]]\n",
    "x_init = torch.tensor([-1.0,-1.0],requires_grad=True)\n",
    "runtime = 0.1\n",
    "loss_vs_seconds(rosenbrock, [\"cmaes\", \"gd\", \"momentum\", \"adagrad\"], runtime, x_init, ts, changes)"
   ]
  },
  {
   "cell_type": "markdown",
   "id": "8d01426b",
   "metadata": {},
   "source": [
    "### Multi-layer Neural Network"
   ]
  },
  {
   "cell_type": "code",
   "execution_count": 1161,
   "id": "6a17f68f",
   "metadata": {},
   "outputs": [],
   "source": [
    "num_samples = 5\n",
    "in_dim = 3\n",
    "out_dim = 4\n",
    "w_dims = [3, 10, 16, 8, 4]\n",
    "num_weights = 0\n",
    "for i in range(len(w_dims)-1):\n",
    "    num_weights += w_dims[i] * w_dims[i+1]\n",
    "w = torch.rand(num_weights)\n",
    "X, Y = multi_layer_init(num_samples, in_dim, out_dim, w_dims)"
   ]
  },
  {
   "cell_type": "code",
   "execution_count": 1189,
   "id": "b218306f",
   "metadata": {
    "scrolled": true
   },
   "outputs": [
    {
     "name": "stdout",
     "output_type": "stream",
     "text": [
      "Total time elapsed using adam - 0.11724019050598145\n",
      "Final x - tensor([ 1.9312e-01, -4.5627e-01,  1.0606e-01, -6.9512e-01, -2.7948e-01,\n",
      "        -3.3004e-01,  1.4428e-01, -3.0285e-02,  1.1189e-01, -3.7489e-01,\n",
      "         2.0752e-01,  5.0342e-02, -2.1969e-01, -7.1491e-01,  4.8061e-02,\n",
      "        -3.2277e-01, -1.0794e-01, -3.4843e-01, -2.5575e-01,  7.5373e-02,\n",
      "        -5.0574e-01,  5.0481e-02, -8.0841e-02,  1.1973e-01, -3.7733e-01,\n",
      "         9.1746e-02, -2.3799e-01, -4.4922e-02, -1.0874e-01,  3.4759e-02,\n",
      "        -2.3131e-02,  4.2761e-02, -3.4184e-01, -7.2993e-01, -3.4455e-01,\n",
      "        -4.3565e-01, -1.6732e-01, -4.9986e-01, -5.8065e-02, -4.7907e-01,\n",
      "        -6.6803e-01, -2.5058e-01, -4.0450e-01, -4.9327e-01, -1.7405e-01,\n",
      "        -5.1619e-01, -2.7300e-01, -4.2786e-01,  8.3997e-02, -4.5454e-02,\n",
      "        -6.4929e-01, -1.8688e-01, -2.8077e-01, -6.3981e-01,  1.7298e-01,\n",
      "        -4.5716e-01, -2.5518e-02, -2.6868e-01, -5.1124e-01, -4.3245e-01,\n",
      "        -3.7958e-01, -6.3860e-01,  1.7697e-01, -4.6401e-01, -4.1139e-01,\n",
      "        -5.5426e-01, -5.2055e-01, -2.1454e-01, -3.0322e-01, -3.4351e-01,\n",
      "         1.3431e-01, -2.0151e-01,  1.7053e-01, -3.2138e-01,  1.5188e-01,\n",
      "        -2.6781e-01, -6.6083e-01,  1.8899e-01,  1.8761e-01, -5.5196e-01,\n",
      "        -6.3297e-01, -1.4964e-01, -3.6736e-01, -4.1115e-02, -5.3264e-01,\n",
      "         1.2100e-01, -1.0818e-01,  1.7340e-03, -1.1125e-01, -1.6225e-02,\n",
      "        -2.6155e-01,  5.4686e-04, -1.8274e-01, -6.0229e-01,  1.3015e-01,\n",
      "        -7.0224e-01,  2.6266e-02,  2.6034e-01, -6.1319e-01, -3.7540e-01,\n",
      "        -1.9246e-01, -9.3565e-04,  1.6205e-01, -6.4461e-01, -4.8563e-01,\n",
      "        -1.4055e-01, -3.9267e-01, -6.7771e-01,  7.7022e-02, -4.9229e-01,\n",
      "        -6.6894e-02,  1.7640e-01, -2.8055e-01, -4.8899e-01, -2.5317e-02,\n",
      "        -6.4201e-01, -9.8858e-03, -4.2663e-01, -3.2327e-01, -3.7897e-01,\n",
      "        -6.2680e-01, -5.2293e-01, -7.6591e-01,  5.2605e-02,  3.6888e-02,\n",
      "        -3.2902e-02, -1.4427e-01, -6.4300e-01, -3.7348e-01, -1.6189e-01,\n",
      "        -3.0142e-01, -5.6088e-01, -5.2447e-01, -1.6069e-01, -5.7330e-01,\n",
      "        -9.0879e-04, -8.4098e-02, -1.4087e-01, -5.5204e-01, -6.5405e-01,\n",
      "        -5.3868e-01, -2.3108e-01, -3.2423e-01, -4.1199e-01,  2.0011e-01,\n",
      "        -3.5867e-02, -3.8618e-01,  1.6768e-01, -5.0391e-01, -5.0669e-01,\n",
      "        -6.6389e-01, -5.6188e-01, -6.4321e-01, -6.4664e-01, -5.7997e-01,\n",
      "        -4.6846e-01, -6.3326e-01, -6.2637e-01, -2.5356e-01, -2.5835e-01,\n",
      "        -1.3411e-01, -2.4879e-01,  6.7488e-02, -6.3682e-01, -2.6196e-01,\n",
      "         1.3285e-01, -5.4751e-01, -1.0169e-01,  2.3114e-01,  1.2328e-01,\n",
      "         8.0940e-03, -2.1827e-01, -6.2044e-01,  6.6824e-02, -2.1415e-01,\n",
      "        -5.8926e-01,  7.8823e-02, -6.5472e-01, -1.1489e-01,  2.1640e-01,\n",
      "        -6.0884e-01, -5.7691e-01, -1.1134e-01, -1.8576e-01, -8.5816e-02,\n",
      "        -5.9245e-01, -4.9814e-01, -3.5949e-01, -2.2643e-01, -3.5531e-01,\n",
      "        -3.9630e-01, -6.6496e-01, -7.0968e-01, -7.0098e-01, -6.5780e-02,\n",
      "        -1.3290e-01, -5.0223e-01, -5.1999e-01, -3.4931e-01, -1.2353e-01,\n",
      "        -6.3881e-01,  2.3798e-01, -4.7037e-01, -4.8990e-01, -9.0032e-02,\n",
      "        -4.7874e-01, -3.9825e-01, -5.0204e-01,  1.5167e-01, -4.8985e-01,\n",
      "        -2.0098e-01,  1.3299e-01, -4.6758e-01,  1.3597e-01, -8.2250e-02,\n",
      "        -4.3093e-01, -7.2221e-01, -7.2908e-01, -3.9628e-01, -5.8814e-01,\n",
      "        -7.2519e-01, -3.0969e-01, -6.0728e-01, -6.7576e-01,  8.2928e-03,\n",
      "        -2.1958e-03,  2.4461e-01, -1.5819e-01, -6.8569e-01, -3.6796e-01,\n",
      "        -1.6264e-01, -1.7822e-01, -2.3053e-01,  2.5866e-01, -7.9383e-02,\n",
      "         1.3376e-01, -4.8736e-01, -3.3183e-01, -5.9942e-01, -6.0610e-01,\n",
      "        -1.1481e-01,  2.0195e-01,  2.5550e-02, -6.9033e-01, -4.3873e-01,\n",
      "         3.4745e-02, -2.0165e-01, -5.7147e-02, -2.5730e-01,  2.1016e-01,\n",
      "        -3.4449e-01, -7.0212e-01, -5.9104e-01, -5.7128e-01,  2.3734e-01,\n",
      "        -3.4654e-02, -2.4005e-01,  1.6554e-01, -6.1060e-01, -6.1864e-01,\n",
      "        -5.1219e-01,  9.5595e-02, -3.7981e-01, -1.3779e-01, -3.1222e-01,\n",
      "        -4.9165e-01,  2.8760e-01, -9.7875e-02,  9.5964e-02,  9.6921e-03,\n",
      "         8.0805e-02, -1.7039e-02, -8.0120e-02,  3.0458e-02, -4.8021e-01,\n",
      "        -3.7103e-01, -4.8983e-01, -4.2578e-01, -4.9920e-02, -2.9785e-01,\n",
      "        -1.4489e-02, -5.6044e-01, -1.5323e-01,  4.8436e-02,  1.9587e-01,\n",
      "        -3.6417e-02,  1.8940e-01, -4.3145e-01, -6.2077e-02, -4.0145e-02,\n",
      "        -2.1495e-01, -1.8713e-01, -2.0587e-01, -8.7988e-02, -1.7781e-01,\n",
      "         2.2444e-01, -5.8513e-01, -2.5075e-01, -6.3535e-01, -4.1489e-01,\n",
      "        -4.6152e-01,  1.6688e-01, -5.4304e-01,  2.3972e-01, -1.7242e-01,\n",
      "        -4.6320e-01,  1.6473e-01, -1.5018e-02, -3.4531e-01, -1.6485e-01,\n",
      "         9.8236e-02, -4.2361e-01,  3.8262e-02, -5.9484e-01,  2.0612e-01,\n",
      "        -5.9444e-01, -5.3608e-01, -3.6931e-01,  1.1971e-01, -2.8320e-01,\n",
      "        -2.4451e-01, -2.6224e-01, -6.1864e-01,  3.2097e-02,  2.2568e-01,\n",
      "        -3.0043e-01, -3.0659e-01, -2.3531e-01, -5.9998e-01, -1.3435e-02,\n",
      "        -3.3978e-01, -5.9754e-01,  1.5898e-02, -3.8888e-01, -1.0117e-01,\n",
      "         1.6371e-01, -7.1066e-01,  5.3677e-02, -2.3247e-01, -4.2859e-02,\n",
      "         8.4729e-02, -2.7026e-01, -4.4067e-01, -6.6019e-01, -4.3194e-01,\n",
      "         7.5877e-02,  1.8409e-01, -2.2117e-01,  1.1525e-01, -1.9088e-01],\n",
      "       grad_fn=<SubBackward0>)\n",
      "Final loss - 2.306068181991577\n",
      "------------------------------\n",
      "Total time elapsed using cmaes - 4.908369302749634\n",
      "Final x - tensor([-1.2777e-01, -2.1123e-01, -9.1064e-01, -1.9500e+00, -3.0282e+00,\n",
      "         1.2015e+00, -2.7891e+00, -6.6725e-01, -4.1324e-02, -6.5797e-01,\n",
      "         1.0477e+00, -3.0073e+00, -8.4124e-01, -1.8129e+00, -3.0928e-01,\n",
      "        -7.2569e-01, -1.9858e+00, -2.8731e+00,  1.2837e+00, -3.9498e-01,\n",
      "        -5.9776e+00, -1.9828e+00,  7.2059e-01, -9.8929e-01, -7.3882e-01,\n",
      "        -1.6044e+00,  2.0296e-01, -5.3773e-01, -1.9745e+00,  1.1202e+00,\n",
      "         2.7546e+00,  1.1262e+00,  9.1590e-01, -1.2795e-01, -6.7473e-01,\n",
      "        -1.7640e+00,  3.8199e+00,  1.4897e+00,  8.3983e-01,  2.6645e+00,\n",
      "        -3.1750e+00, -1.6688e-01,  1.1766e-01,  3.0084e+00,  2.1955e+00,\n",
      "        -4.5385e+00,  1.6516e+00,  2.9545e+00,  4.6025e-01,  3.7181e+00,\n",
      "        -1.5288e+00, -2.2470e+00,  1.1690e+00, -6.3016e-01,  3.5970e+00,\n",
      "         1.4563e+00,  1.4943e+00,  1.7880e+00, -2.0651e+00, -3.5871e+00,\n",
      "        -1.3479e+00,  1.8016e+00, -2.6010e+00,  5.6802e-01,  2.1727e+00,\n",
      "         3.6723e-01,  4.2870e+00, -1.1500e+00,  2.6044e+00, -2.3667e-01,\n",
      "        -1.1622e+00,  1.5186e+00,  2.1588e+00, -3.9134e-01,  4.0841e+00,\n",
      "        -5.6517e-01, -1.8880e+00,  2.8081e+00,  3.0385e+00,  1.4601e+00,\n",
      "        -6.0319e-01,  3.3153e+00,  2.0604e-01, -7.2227e-01,  5.0928e+00,\n",
      "        -8.4961e-01,  4.1808e-01,  9.2502e-01,  4.9941e-02,  2.8496e+00,\n",
      "         1.2491e-01,  2.9164e+00, -5.1133e-01, -2.1739e+00,  2.1879e+00,\n",
      "        -2.5710e-01,  3.9705e+00,  2.5654e+00,  2.9933e-01,  1.0022e+00,\n",
      "        -4.1917e+00,  7.2120e-01, -8.4060e-01,  3.1620e-01, -2.4011e-01,\n",
      "         2.3913e+00,  6.3230e-01,  1.2091e+00,  3.5036e+00, -4.0876e+00,\n",
      "         1.5236e+00,  1.7495e+00,  9.0679e-01, -3.3196e+00, -5.7616e-01,\n",
      "        -1.9441e+00,  4.7481e+00,  5.9269e-01,  3.7571e-01, -6.9527e-01,\n",
      "        -1.2441e+00,  1.8722e+00,  3.7246e+00,  2.1456e+00,  1.0155e+00,\n",
      "        -3.5117e+00,  1.1054e+00,  2.6482e-01,  4.0314e+00,  3.6325e-01,\n",
      "         5.2368e-01, -5.1313e+00,  2.7977e+00,  3.0891e+00, -2.3698e+00,\n",
      "         2.2117e+00,  1.4257e+00,  1.9392e+00,  4.9280e-01, -2.6880e+00,\n",
      "         1.1846e+00,  1.3531e+00,  1.5388e+00, -2.6802e+00,  1.9118e+00,\n",
      "         1.7436e+00,  2.6854e+00, -1.9239e+00, -2.1845e+00, -7.0671e-01,\n",
      "         3.7252e-01,  1.6526e-01, -1.5868e+00,  2.3722e+00, -1.3457e+00,\n",
      "         3.2675e+00,  5.0994e+00, -2.7784e+00, -1.2345e+00,  1.2995e+00,\n",
      "        -2.4315e+00,  1.6485e+00,  5.6868e-01,  4.7187e-01,  4.1835e-02,\n",
      "         1.0876e+00, -6.6164e-01,  1.3256e+00, -1.8796e+00,  6.0485e-01,\n",
      "         3.2937e+00,  6.8420e-01, -2.1793e+00,  1.6518e+00, -4.4767e-02,\n",
      "         1.1250e+00,  1.6008e+00, -1.9671e-02, -2.3078e-01, -1.7557e+00,\n",
      "         7.9691e-01,  1.1942e+00, -5.2446e-01,  7.4519e-01,  3.6081e+00,\n",
      "         6.7504e-01,  1.6307e+00,  2.5492e-02, -2.2413e+00,  2.1881e-01,\n",
      "         2.2208e+00, -1.9311e+00, -2.5225e+00, -3.1066e-01,  9.0984e-01,\n",
      "        -3.3012e-01, -5.2491e-04,  2.3261e+00, -8.9550e-01,  3.2427e+00,\n",
      "         4.8388e-01,  9.6891e-02,  3.3261e+00,  9.9406e-01,  1.8975e+00,\n",
      "        -7.1764e-01, -7.0715e-01,  2.1511e+00, -1.0907e+00,  2.3097e+00,\n",
      "        -5.7163e-01,  2.0584e+00, -2.0516e+00,  8.1129e-01,  1.6635e-01,\n",
      "         1.6730e+00,  4.8739e-01,  3.3878e+00,  4.6050e-02,  2.9997e+00,\n",
      "         9.2158e-01,  2.1005e+00, -6.8544e-01, -5.5804e-01,  1.9004e+00,\n",
      "        -1.1921e-01, -2.6687e+00, -2.0158e+00, -1.2820e+00, -1.6344e+00,\n",
      "        -2.3459e+00,  5.6221e+00,  4.8818e+00,  2.2290e+00, -1.0018e+00,\n",
      "        -1.6722e+00,  4.2380e-01,  1.4774e+00, -2.6986e+00,  2.1028e+00,\n",
      "        -2.6827e+00, -1.1501e+00,  2.4472e+00,  4.7237e-01,  1.4186e+00,\n",
      "         2.5392e+00,  3.1446e+00,  2.4476e+00, -6.8292e-01,  9.4886e-01,\n",
      "         1.1816e+00,  1.1005e+00, -3.3013e+00,  6.6494e-01,  2.7176e+00,\n",
      "         8.8674e-01,  2.9211e+00, -2.5105e+00,  1.7261e+00,  1.1634e+00,\n",
      "        -2.5546e+00, -1.4699e+00,  2.3757e+00, -1.6103e-01, -1.3811e+00,\n",
      "         4.7605e+00, -1.8637e+00, -2.1762e+00,  2.0868e+00,  1.5675e+00,\n",
      "         1.7405e+00, -5.6202e-01,  1.3621e+00, -1.6781e+00,  7.0047e+00,\n",
      "        -2.0071e+00,  4.7306e+00, -1.6711e+00,  1.8216e+00, -3.2063e+00,\n",
      "         2.0326e+00,  1.3296e-01, -3.3914e+00,  1.3545e+00,  5.1525e+00,\n",
      "        -1.7208e+00,  1.3604e+00,  3.6209e+00, -3.7720e-02,  5.1695e-01,\n",
      "         1.8983e+00, -1.0208e+00,  1.2560e+00, -1.1091e-01,  8.4500e-01,\n",
      "         2.6646e+00,  1.6854e-01,  2.3485e+00,  1.7232e-02, -1.3570e+00,\n",
      "         9.2123e-01,  1.5363e+00,  1.9723e-01,  3.6234e+00, -1.6154e+00,\n",
      "        -1.5709e+00,  8.4234e-01,  3.0528e+00,  5.3949e-01,  3.3292e-01,\n",
      "         1.9538e+00, -1.5055e+00, -5.9756e-02, -3.9144e-02, -2.1575e+00,\n",
      "         8.7413e-01,  8.8268e-01,  3.3017e+00,  1.2073e-01, -3.4220e+00,\n",
      "        -4.8929e-01,  1.5185e+00,  1.6339e+00, -2.0911e+00, -1.0808e+00,\n",
      "         2.3583e+00,  1.0085e+00,  9.2029e-01,  1.6579e+00,  7.4779e-01,\n",
      "        -3.7544e-02, -3.1765e-01, -3.3374e+00, -2.2615e+00, -6.6977e-01,\n",
      "        -8.7657e-01,  6.2309e-01, -3.7303e-02, -1.6678e+00, -3.2738e+00,\n",
      "         2.4492e+00, -1.4748e+00, -1.8834e+00,  2.0679e+00,  1.5915e+00,\n",
      "         2.9696e+00, -1.7296e+00,  4.9650e-01, -2.6751e+00, -1.4613e+00],\n",
      "       grad_fn=<AddBackward0>)\n",
      "Final loss - 0.6055082678794861\n",
      "------------------------------\n"
     ]
    },
    {
     "data": {
      "image/png": "[encoded data removed]",
      "text/plain": [
       "<Figure size 936x648 with 1 Axes>"
      ]
     },
     "metadata": {
      "needs_background": "light"
     },
     "output_type": "display_data"
    }
   ],
   "source": [
    "ts = [[],[]]\n",
    "x_init = torch.rand(num_weights, requires_grad=True)\n",
    "changes = [[\"cmaes\",\"s\",0.5], [\"adam\",\"lr\",0.1]]\n",
    "epochs = 200\n",
    "loss_vs_epochs(multi_layer, [\"adam\", \"cmaes\"], epochs, x_init, ts, changes)"
   ]
  },
  {
   "cell_type": "code",
   "execution_count": 1195,
   "id": "23dd588b",
   "metadata": {
    "scrolled": true
   },
   "outputs": [
    {
     "name": "stdout",
     "output_type": "stream",
     "text": [
      "Total epochs elapsed using adam - 3831\n",
      "Final x - tensor([-1.4647e-01, -2.2940e-01,  3.0090e-01,  3.3359e-01,  3.1378e-01,\n",
      "         6.2102e-01,  3.5454e-01,  3.7967e-01, -3.0990e-02,  1.7152e-01,\n",
      "         2.2715e-01,  2.4653e-01, -1.4896e-01,  4.0855e-02, -1.5491e-01,\n",
      "        -1.9881e-01,  2.3620e-01, -8.2201e-02, -1.2367e-01,  3.8224e-01,\n",
      "         1.1206e-02,  6.3894e-02, -7.9623e-02,  3.0051e-01, -5.9971e-02,\n",
      "         1.3322e-01,  1.4160e-01, -3.1964e-01,  2.2742e-01,  3.9823e-01,\n",
      "        -8.6656e-02,  1.4215e-01,  2.3058e-01, -1.9205e-01,  1.8722e-01,\n",
      "         1.1077e-01,  1.5917e-01,  6.5799e-01,  6.7911e-01,  5.9961e-01,\n",
      "        -1.2172e-01,  3.3447e-01,  3.9099e-01, -1.7008e-01,  5.2099e-01,\n",
      "         5.1786e-01,  5.0882e-01, -3.1686e-01, -2.0638e-01,  3.8902e-01,\n",
      "        -6.3116e-02, -5.7886e-02,  6.0199e-02, -1.6809e-01, -1.2636e-02,\n",
      "         2.5809e-02,  3.4639e-02,  8.7111e-02,  1.0873e-01, -6.7727e-02,\n",
      "         4.5491e-01, -2.3045e-02, -1.0918e-01, -2.2987e-01,  8.8080e-02,\n",
      "        -1.4872e-01,  8.5322e-03,  3.6485e-01, -6.0590e-02,  5.9726e-01,\n",
      "        -1.8501e-01,  6.6375e-01,  4.7356e-01,  5.5440e-01,  4.6697e-01,\n",
      "         3.7367e-01,  5.2862e-02,  2.8740e-01, -4.9370e-02,  7.1723e-01,\n",
      "         4.4979e-01, -3.2188e-01,  4.2889e-01,  1.8945e-01,  5.3355e-01,\n",
      "         6.0459e-01, -5.8271e-02,  1.8704e-01, -2.2797e-01,  4.3239e-01,\n",
      "        -2.4754e-01, -2.4661e-01,  3.2624e-01, -3.0812e-01,  7.7531e-01,\n",
      "         1.0998e-01, -3.9576e-02,  5.7414e-01,  3.0549e-01, -3.5397e-02,\n",
      "         6.5432e-01,  4.1866e-02, -8.2040e-02, -8.2487e-02,  1.3998e-01,\n",
      "         9.4686e-02,  5.0514e-02, -7.8105e-02, -9.4621e-02, -1.7223e-01,\n",
      "        -2.3270e-01,  2.7512e-01,  2.2059e-01,  5.7779e-01,  9.0822e-01,\n",
      "         4.0289e-01, -9.1888e-02, -2.7506e-01,  1.9845e-01,  4.7686e-01,\n",
      "         2.2177e-01, -3.6369e-02,  5.8623e-01,  3.2790e-01,  1.9626e-01,\n",
      "         8.4430e-01, -2.2188e-01, -5.0953e-02,  5.5135e-03,  5.9747e-01,\n",
      "         6.1405e-01,  3.1734e-01, -1.4313e-01, -2.5747e-01,  5.1974e-01,\n",
      "        -1.3790e-01,  1.4606e-01,  9.0481e-03,  9.1158e-02,  6.6736e-01,\n",
      "         4.6357e-01,  1.2463e-01, -3.6373e-01,  3.9126e-02,  1.9261e-01,\n",
      "         7.7254e-01, -2.6097e-01,  6.1384e-01, -2.9033e-01, -3.0283e-01,\n",
      "         5.6712e-01, -2.3788e-01,  5.1533e-01, -1.0254e-01,  3.4999e-02,\n",
      "         2.9580e-01,  7.1074e-01, -3.2040e-01,  1.0329e-01,  2.8816e-01,\n",
      "        -2.2665e-01,  5.2349e-03,  8.3934e-02,  1.7411e-01,  6.6709e-01,\n",
      "         3.7340e-01,  1.6215e-02, -2.3653e-01,  4.6620e-01,  3.7099e-01,\n",
      "         1.9026e-01, -3.6624e-01, -9.3093e-02,  2.3059e-01,  3.8424e-01,\n",
      "        -2.5407e-02,  3.7203e-01,  2.9731e-01,  3.7615e-01,  6.6019e-01,\n",
      "         4.5838e-01, -2.1822e-01,  4.4333e-01,  1.3093e-01,  3.3165e-01,\n",
      "         5.3426e-01,  3.0720e-01,  9.8555e-02, -4.1390e-02,  4.8374e-02,\n",
      "        -2.9487e-01,  2.4623e-01,  5.8784e-01,  4.4778e-01, -1.3560e-01,\n",
      "        -2.4167e-01,  6.3935e-01,  6.3212e-01,  2.2384e-01,  5.6506e-01,\n",
      "        -2.1639e-01,  6.4774e-01,  5.9595e-01,  4.9458e-01,  5.1389e-01,\n",
      "         6.5292e-02, -2.9175e-01,  4.2677e-01,  7.5446e-01,  5.0015e-02,\n",
      "        -3.1676e-01,  2.4455e-01,  1.8162e-01, -7.3232e-02,  1.3499e-01,\n",
      "         2.4858e-01,  1.0424e-01,  4.0688e-01,  1.3072e-01, -2.8306e-01,\n",
      "         1.4105e-01, -1.9436e-01,  3.8096e-01,  5.9902e-01,  2.5816e-01,\n",
      "         1.6105e-01,  2.3223e-01,  2.3119e-02,  6.1918e-01,  5.8120e-01,\n",
      "         8.5688e-02,  1.7428e-01,  3.1240e-01,  6.5883e-01,  6.9055e-01,\n",
      "         3.8605e-01,  4.9126e-02,  1.5004e-01,  5.2781e-01,  4.0959e-01,\n",
      "         2.6994e-01,  4.1906e-01, -8.4462e-02, -2.2391e-01, -2.1338e-01,\n",
      "         3.8488e-01, -5.3167e-02,  4.4415e-01,  2.5139e-01,  5.9592e-01,\n",
      "         5.3673e-01, -1.0759e-01, -1.5117e-01,  6.7849e-01,  4.5868e-01,\n",
      "         2.2612e-01,  3.0933e-01,  6.0877e-01, -2.2894e-01,  6.3854e-01,\n",
      "         6.4870e-01,  7.2716e-01, -3.9303e-02, -1.2463e-01,  2.6664e-01,\n",
      "         4.4676e-01,  5.3569e-01,  5.0866e-01,  7.7084e-02,  3.4860e-01,\n",
      "         3.4244e-01,  5.3745e-01,  4.5758e-01,  6.2203e-01,  2.0723e-01,\n",
      "         9.1465e-02,  7.3863e-01,  2.5524e-01,  5.2536e-01, -2.0020e-01,\n",
      "         4.7735e-01,  5.4857e-01, -1.1362e-01, -2.0697e-01,  6.5041e-01,\n",
      "         4.5476e-01,  6.2950e-01, -6.8274e-02,  5.3631e-01,  4.2576e-01,\n",
      "         2.6837e-02,  6.1158e-01,  7.3889e-03,  4.2399e-01,  2.0400e-01,\n",
      "         4.5138e-01, -1.6657e-01,  5.0640e-01,  2.9783e-01,  3.8483e-01,\n",
      "        -8.6614e-04,  3.9361e-01, -3.3329e-01,  2.3238e-01,  1.7648e-01,\n",
      "         3.0114e-01,  9.8235e-02,  7.1456e-01,  1.1700e-01,  4.7003e-01,\n",
      "        -2.7391e-01,  5.2267e-01,  1.3333e-01,  5.2424e-01, -2.1283e-01,\n",
      "        -6.0599e-02,  8.3419e-02,  7.8599e-02,  6.3244e-01,  1.2619e-01,\n",
      "         1.5474e-01, -1.5360e-01,  1.7816e-01,  3.0305e-01,  2.2374e-01,\n",
      "         3.8623e-01,  2.2905e-01,  4.3072e-01, -2.0523e-01,  5.2528e-02,\n",
      "        -1.6195e-01,  2.0289e-02,  5.7469e-01,  7.2103e-01,  5.0917e-01,\n",
      "         4.3305e-01, -3.5960e-02,  5.6352e-01, -1.1699e-01,  2.6471e-01,\n",
      "        -2.6815e-01, -2.2676e-01,  4.9579e-01,  7.1065e-01, -2.5805e-01,\n",
      "         5.6186e-01,  2.3213e-01,  3.0719e-01, -1.8482e-01,  5.7355e-02],\n",
      "       grad_fn=<SubBackward0>)\n",
      "Final loss - 0.6861670017242432\n",
      "------------------------------\n",
      "Total epochs elapsed using cmaes - 84\n",
      "Final x - tensor([-2.9150e+00,  1.2166e-01, -2.7417e+00, -5.7660e-01, -1.5001e+00,\n",
      "        -5.2261e-01, -2.2357e-01, -1.7113e+00, -6.0193e-01, -3.4441e-01,\n",
      "        -2.3895e+00, -7.3808e-01, -1.7484e+00,  1.9666e+00, -1.5771e+00,\n",
      "        -1.1398e+00,  1.9188e-01, -2.2483e+00, -5.3845e-01,  5.3650e-01,\n",
      "        -1.7390e+00,  2.1895e-02, -3.8978e+00,  2.2213e-01, -2.3796e+00,\n",
      "         5.6287e-01,  2.0982e-01,  1.4463e-01,  2.7787e-01, -2.0016e+00,\n",
      "         5.3347e-01,  7.0413e-01, -1.8036e-01,  1.3462e-01, -2.3586e-01,\n",
      "         1.9807e+00,  1.0146e+00,  2.2307e-01, -3.4577e+00,  2.8617e+00,\n",
      "         4.2410e+00,  2.1841e-01,  1.2907e-01,  7.2677e-01,  6.2588e-01,\n",
      "         5.0871e-01,  2.9284e+00,  1.1264e+00, -8.1548e-01, -1.0951e+00,\n",
      "         2.6147e+00, -2.5549e-01,  3.7275e+00, -3.4586e-01,  1.1658e+00,\n",
      "         9.5248e-01,  1.4156e+00,  2.2271e+00, -3.4755e-01,  1.3004e-01,\n",
      "         9.9518e-02,  1.4072e+00,  1.1319e+00,  1.7746e+00,  5.0909e-01,\n",
      "         1.5458e+00,  8.2472e-01, -1.5024e+00,  8.4136e-01,  7.6012e-01,\n",
      "         5.9746e-01,  1.3749e+00,  2.1013e+00,  5.5731e-01,  1.8713e+00,\n",
      "        -5.2250e-02,  3.2580e+00,  1.7143e+00,  3.5532e-01,  1.5946e+00,\n",
      "        -4.6327e-01,  4.2138e-01,  1.4729e+00, -5.2084e-01,  1.2685e+00,\n",
      "         6.1920e-01, -1.8921e+00,  2.9752e+00, -1.0239e-01, -3.9730e-01,\n",
      "         4.6984e-01,  6.6695e-01,  1.4539e+00,  1.2157e-01,  1.2683e+00,\n",
      "         6.4466e-01,  1.3096e+00,  1.0954e-01, -2.2911e+00, -3.3066e+00,\n",
      "         3.8879e-01,  1.1265e+00,  1.0260e+00, -2.3506e-01,  3.5418e+00,\n",
      "        -6.3732e-02,  1.2457e+00, -1.4415e+00, -1.1021e+00,  6.9388e-01,\n",
      "         1.7607e+00, -6.8028e-01, -9.9356e-01,  3.1871e-01,  3.2029e+00,\n",
      "         1.0667e-02, -1.4231e+00, -3.2405e+00,  8.2617e-01, -1.4633e+00,\n",
      "         3.0954e+00,  3.5462e-01,  1.4162e+00,  1.8773e+00,  3.3192e-01,\n",
      "        -2.9331e-01,  1.0629e-01, -5.7546e-01, -1.2251e+00,  1.2507e+00,\n",
      "         2.2179e+00,  4.0417e-01,  1.1952e+00, -1.6716e+00,  4.0528e+00,\n",
      "         2.1788e+00,  1.2739e+00, -1.8000e+00,  5.8544e-01,  2.2388e+00,\n",
      "         4.3898e+00,  1.3047e+00, -1.0768e-01,  2.6829e+00,  3.0990e-01,\n",
      "        -2.1057e+00,  1.7253e+00,  5.4920e-01, -5.7613e-01, -1.0821e+00,\n",
      "         1.6781e+00,  3.0547e-01,  3.2872e-01,  9.6216e-01, -3.1015e+00,\n",
      "         1.3460e+00,  3.0939e+00,  9.0747e-01,  1.9248e+00, -1.2762e+00,\n",
      "         6.1640e-01,  3.2580e-01,  8.1024e-01,  4.9422e-01, -5.5522e-01,\n",
      "         1.1152e+00, -1.1973e-03, -2.1777e-01,  9.5210e-01, -1.0197e+00,\n",
      "        -2.5838e+00,  2.1048e+00,  4.1175e-01,  1.9348e+00,  2.4277e+00,\n",
      "        -1.1756e+00,  1.8336e+00, -2.1747e-01,  2.0160e+00,  1.7024e+00,\n",
      "        -7.0260e-01, -1.0941e+00,  1.0736e+00,  7.9012e-01, -3.5603e-01,\n",
      "         2.7835e+00,  5.1949e-01, -1.9133e+00, -9.3655e-01,  1.3405e+00,\n",
      "        -3.1022e+00, -1.6497e+00,  1.4425e+00,  1.2128e+00, -5.8646e-01,\n",
      "        -1.0843e+00,  1.4960e+00,  3.6258e+00,  5.5461e-01, -5.6561e-01,\n",
      "         9.6880e-01,  3.1160e-03,  2.6438e+00,  1.9288e+00, -1.1782e+00,\n",
      "        -2.8071e-01, -5.1512e-01, -2.0356e-01, -5.7819e-01, -1.2385e+00,\n",
      "         4.0085e-02, -2.0076e+00,  9.7602e-01,  2.3961e+00, -1.7166e+00,\n",
      "         2.1247e+00,  1.8341e-01,  2.9108e+00, -1.8620e+00, -1.2939e+00,\n",
      "        -8.6509e-01,  1.2009e+00, -5.3684e-01, -1.7303e+00,  6.8052e-01,\n",
      "         2.2801e+00,  2.5734e+00, -1.9329e+00,  1.8382e+00, -1.2769e+00,\n",
      "        -2.3872e+00,  3.4823e+00,  5.2914e-01,  1.8452e-01,  2.4312e+00,\n",
      "         8.5374e-01, -2.0998e+00,  7.4294e-01,  3.4932e+00, -1.0364e+00,\n",
      "         4.9190e-01, -1.3507e+00,  1.1713e+00, -1.5670e+00,  7.0366e-01,\n",
      "         3.4852e+00, -7.6497e-01,  1.5267e+00,  4.3449e-01,  1.2771e+00,\n",
      "         5.8934e-01, -1.5051e+00,  5.4884e-01,  1.3284e+00, -1.1890e+00,\n",
      "        -1.0934e+00,  9.2135e-01,  2.2662e+00,  8.2994e-01,  2.6659e-01,\n",
      "         2.7684e+00,  9.2157e-01, -1.0714e+00, -2.1581e+00, -7.6626e-01,\n",
      "         2.4935e+00,  2.2137e+00, -2.4497e-01, -8.9216e-02,  2.6734e+00,\n",
      "        -9.9656e-01,  3.3398e+00,  8.7081e-01,  7.5417e-01,  2.7870e+00,\n",
      "         2.8655e-01,  1.0901e-01, -1.9677e+00,  8.9512e-01, -2.5175e+00,\n",
      "         8.6822e-01,  1.7986e+00, -7.0547e-01,  1.6687e+00,  1.7475e+00,\n",
      "         2.2413e-02, -4.2174e-01, -4.0788e-01,  3.3147e+00, -1.4492e+00,\n",
      "        -1.7245e+00, -9.0721e-01,  8.6567e-01, -4.0011e-01, -1.9791e+00,\n",
      "         5.0408e-01,  1.4418e+00,  1.6369e+00,  2.7454e-01,  1.8038e+00,\n",
      "         8.2039e-01, -1.8007e+00, -1.4513e+00,  4.6168e-01, -1.9870e-01,\n",
      "        -1.9293e+00, -2.0590e-01,  4.5896e-01,  3.3012e+00, -4.1706e-01,\n",
      "         6.3419e-01,  2.9572e+00, -5.0416e-01,  3.1822e+00, -6.2199e-01,\n",
      "        -5.8147e-01,  7.4053e-01,  2.9620e+00,  1.2302e+00,  1.2327e+00,\n",
      "        -7.3312e-01, -1.5888e+00, -3.5703e+00, -1.3551e+00, -9.6739e-01,\n",
      "         9.5588e-01,  6.0837e-01,  6.8474e-01, -2.7382e+00,  9.7600e-01,\n",
      "         1.9419e+00,  3.6337e-02, -2.0253e+00, -1.9848e-01,  2.2203e+00,\n",
      "         8.1356e-01, -2.5311e+00,  7.7644e-01,  8.7884e-02, -1.8852e+00,\n",
      "        -7.4355e-01,  4.0712e-01,  3.4726e-01,  4.5453e-01, -2.8055e+00,\n",
      "        -3.7063e-01,  1.3304e+00, -6.5846e-01, -9.6892e-01,  8.7381e-01],\n",
      "       grad_fn=<AddBackward0>)\n",
      "Final loss - 0.6581755876541138\n",
      "------------------------------\n"
     ]
    },
    {
     "data": {
      "image/png": "[encoded data removed]",
      "text/plain": [
       "<Figure size 936x648 with 1 Axes>"
      ]
     },
     "metadata": {
      "needs_background": "light"
     },
     "output_type": "display_data"
    }
   ],
   "source": [
    "ts = [[],[]]\n",
    "x_init = torch.rand(num_weights, requires_grad=True)\n",
    "changes = [[\"cmaes\",\"s\",0.5], [\"adam\",\"lr\",0.01]]\n",
    "runtime = 2\n",
    "loss_vs_seconds(multi_layer, [\"adam\", \"cmaes\"], runtime, x_init, ts, changes)"
   ]
  }
 ],
 "metadata": {
  "kernelspec": {
   "display_name": "Python 3 (ipykernel)",
   "language": "python",
   "name": "python3"
  },
  "language_info": {
   "codemirror_mode": {
    "name": "ipython",
    "version": 3
   },
   "file_extension": ".py",
   "mimetype": "text/x-python",
   "name": "python",
   "nbconvert_exporter": "python",
   "pygments_lexer": "ipython3",
   "version": "3.9.5"
  }
 },
 "nbformat": 4,
 "nbformat_minor": 5
}
